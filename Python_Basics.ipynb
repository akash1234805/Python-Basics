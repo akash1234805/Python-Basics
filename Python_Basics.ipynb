{
  "nbformat": 4,
  "nbformat_minor": 0,
  "metadata": {
    "colab": {
      "provenance": []
    },
    "kernelspec": {
      "name": "python3",
      "display_name": "Python 3"
    },
    "language_info": {
      "name": "python"
    }
  },
  "cells": [
    {
      "cell_type": "markdown",
      "source": [
        "1.What is Python, and why is it popular?\n",
        "\n",
        " -Python is a programming language that is used to interact with computer.\n",
        " It is popular due to many reasons that are given below-\n",
        " .It is easy and versatile language,\n",
        " .It has huge no. of libraries,\n",
        " .It has huge active communities.\n",
        "\n",
        "2.What is an interpreter in Python?\n",
        "\n",
        "-A Python interpreter is a program that reads and executes Python code. It allows programmers to run code line by line, either from a script file or interactively.\n",
        "\n",
        "3.What are pre-defined keywords in Python?\n",
        "\n",
        "-A keyword refers to a predefined word that python reserves for working programs that have a specific meaning, You can't use a keyword anywhere else.\n",
        "\n",
        "4.Can keywords be used as variable names?\n",
        "\n",
        "-Yes keywords can be used as variable names.\n",
        "\n",
        "5.What is mutability in Python?\n",
        "\n",
        "-Mutability in Python refers to the ability of an object to be changed after it has been created.\n",
        "\n",
        "6.Why are lists mutable, but tuples are immutable?\n",
        "\n",
        "-Tuples and lists are the same in every way except two: tuples use parentheses instead of square brackets, and the items in tuples cannot be modified (but the items in lists can be modified).\n",
        "\n",
        "7.What is the difference between “==” and “is” operators in Python?\n",
        "\n",
        "-In Python, == and is operators are both used for comparison but they serve different purposes. The == operator checks for equality of values which means it evaluates whether the values of two objects are the same. On the other hand, is operator checks for identity, meaning it determines whether two variables point to the same object in memory.\n",
        "\n",
        "8.What are logical operators in Python?\n",
        "\n",
        "-There are two types of logical operators in python \"and\" and \"or\".\n",
        "\n",
        "9.What is type casting in Python?\n",
        "\n",
        "-Type casting, also known as type conversion, is the process of changing a variable's data type to another in Python.\n",
        "\n",
        "10.What is the difference between implicit and explicit type casting?\n",
        "\n",
        "-Implicit type casting is automatic, while explicit type casting is manual.\n",
        "\n",
        "11.What is the purpose of conditional statements in Python?\n",
        "\n",
        "-Conditional statements in Python control the flow of code execution by making decisions based on conditions.\n",
        "\n",
        "12. How does the elif statement work?\n",
        "\n",
        "-The “elif” keyword in Python, stands for “else if”. It can be used in conditional statements to check for multiple conditions.\n",
        "\n",
        "13.What is the difference between for and while loops?\n",
        "\n",
        "-A \"for\" loop is used when you know exactly how many times you want to iterate through a block of code, while a \"while\" loop repeats a block of code as long as a specified condition remains true.\n",
        "\n",
        "14. Describe a scenario where a while loop is more suitable than a for loop.\n",
        "\n",
        "-In contrast to a 'for' loop, which is generally used when the number of iterations is known beforehand, a 'while' loop is ideal for situations where the number of iterations is not predetermined and depends on some dynamic condition."
      ],
      "metadata": {
        "id": "mIS7nMvzl4R2"
      }
    },
    {
      "cell_type": "code",
      "source": [
        "#(1)- Write a Python program to print \"Hello, World!\n",
        "print(\"Hello, World!\")"
      ],
      "metadata": {
        "id": "9kdXw7GI4zNm"
      },
      "execution_count": null,
      "outputs": []
    },
    {
      "cell_type": "code",
      "source": [
        "#(2)- Write a Python program that displays your name and age.\n",
        "name=input(\"Enter your name:\")\n",
        "age=int(input(\"Enter your age:\"))\n",
        "print(\"Name:\",name)\n",
        "print(\"Age:\",age)"
      ],
      "metadata": {
        "id": "Tp1BrqNjGfqu"
      },
      "execution_count": null,
      "outputs": []
    },
    {
      "cell_type": "code",
      "source": [
        "#(3)- Write code to print all the pre-defined keywords in Python using the keyword library.\n",
        "\n",
        "print(keyword.kwlist)"
      ],
      "metadata": {
        "id": "TmNXFgOEJKe9"
      },
      "execution_count": null,
      "outputs": []
    },
    {
      "cell_type": "code",
      "source": [
        "#(4)- Write a program that checks if a given word is a Python keyword\n",
        "\n",
        "word=input(\"Enter a word:\")\n",
        "if keyword.iskeyword(word):\n",
        "    print(word,\"is a keyword.\")\n",
        "else:\n",
        "    print(word,\"is not a keyword.\")"
      ],
      "metadata": {
        "id": "KVlW4skzMgty"
      },
      "execution_count": null,
      "outputs": []
    },
    {
      "cell_type": "code",
      "source": [
        "#(5)- Create a list and tuple in Python, and demonstrate how attempting to change an element works differently for each.\n",
        "# 1.LIST\n",
        "list=[1,2,3,4,5]\n",
        "list[1]=100 #changing an element\n",
        "# 2.TUPLES\n",
        "tuple=('akash',2,true) #It is immutable\n"
      ],
      "metadata": {
        "id": "omMt4ZuWy2fn"
      },
      "execution_count": null,
      "outputs": []
    },
    {
      "cell_type": "code",
      "source": [
        "#(6)- Write a function to demonstrate the behavior of mutable and immutable arguments.\n",
        "# 1.List\n",
        "s=['akash',True,3,2.3]\n",
        "s[0]='chauhan' #Works fine because it is mutable\n",
        "# 2.TUPLES\n",
        "l=(1,2,3,'pwskills')\n",
        "l.append(89) #Shows error because it is immutable"
      ],
      "metadata": {
        "id": "rwVjpwE_3TXB"
      },
      "execution_count": null,
      "outputs": []
    },
    {
      "cell_type": "code",
      "source": [
        "#(7)- Write a function to demonstrate the behavior of mutable and immutable arguments.\n",
        "# 1.List\n",
        "s=['akash',True,3,2.3]\n",
        "s[0]='chauhan' #Works fine because it is mutable\n",
        "# 2.TUPLES\n",
        "l=(1,2,3,'pwskills')\n",
        "l.append(89) #Shows error because it is immutable"
      ],
      "metadata": {
        "id": "kv5kf7Wm5cvK"
      },
      "execution_count": null,
      "outputs": []
    },
    {
      "cell_type": "code",
      "source": [
        "#(8)- Write a program to demonstrate the use of logical operators.\n",
        "3|5"
      ],
      "metadata": {
        "id": "n-QHcri15xZm"
      },
      "execution_count": null,
      "outputs": []
    },
    {
      "cell_type": "code",
      "source": [
        "#(9)-  Write a Python program to convert user input from string to integer, float, and boolean types.\n",
        "a=input(\"Enter a number:\")\n",
        "print(int(a))\n",
        "print(float(a))\n",
        "print(bool(a))\n"
      ],
      "metadata": {
        "id": "3zF8slNF64FI"
      },
      "execution_count": null,
      "outputs": []
    },
    {
      "cell_type": "code",
      "source": [
        "#(10)- Write code to demonstrate type casting with list elements.\n",
        "list=['akash',True,3,2.3,'chauhan']\n",
        "str(list[2])"
      ],
      "metadata": {
        "id": "p11Varnz7bvk"
      },
      "execution_count": null,
      "outputs": []
    },
    {
      "cell_type": "code",
      "source": [
        "#(11)- Write a program that checks if a number is positive, negative, or zero.\n",
        "a=input(\"Enter a number:\")\n",
        "if int(a)>0:\n",
        "    print(\"Positive\")\n",
        "elif int(a)<0:\n",
        "    print(\"Negative\")\n",
        "else:\n",
        "    print(\"Zero\")"
      ],
      "metadata": {
        "id": "MaXviMgW84b1"
      },
      "execution_count": null,
      "outputs": []
    },
    {
      "cell_type": "code",
      "source": [
        " #(12)- Write a for loop to print numbers from 1 to 10.\n",
        " for i in range(1,11):\n",
        "  print(i,end=\" \")"
      ],
      "metadata": {
        "id": "hMFf2_au9h64"
      },
      "execution_count": null,
      "outputs": []
    },
    {
      "cell_type": "code",
      "source": [
        "#(13)- Write a Python program to find the sum of all even numbers between 1 and 50.\n",
        "sum=0\n",
        "for i in range(2,50,2):\n",
        "  sum+=i\n",
        "print(sum)"
      ],
      "metadata": {
        "id": "jJ1ii9Dn-C0k"
      },
      "execution_count": null,
      "outputs": []
    },
    {
      "cell_type": "code",
      "source": [
        "#(14)- Write a program to reverse a string using a while loop.\n",
        "a=\"pwskills\"\n",
        "k=7\n",
        "reversed_string=\"\"\n",
        "while k>=0:\n",
        "  reversed_string=reversed_string+a[k]\n",
        "  k-=1\n",
        "reversed_string"
      ],
      "metadata": {
        "id": "3dkW_63OBnJ4"
      },
      "execution_count": null,
      "outputs": []
    },
    {
      "cell_type": "code",
      "source": [
        "#(15)- Write a Python program to calculate the factorial of a number provided by the user using a while loop.\n",
        "n=int(input(\"enter a no:\"))\n",
        "fact = 1\n",
        "i = 1\n",
        "while i <= n:\n",
        "    fact *= i\n",
        "    i += 1\n",
        "print(fact)"
      ],
      "metadata": {
        "id": "tZG9NtkILakn"
      },
      "execution_count": null,
      "outputs": []
    }
  ]
}